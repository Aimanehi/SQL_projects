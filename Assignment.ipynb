{
 "cells": [
  {
   "cell_type": "markdown",
   "id": "9d2e1002",
   "metadata": {},
   "source": [
    "#### Assigment\n",
    "\n",
    "#### 1. Create a loop that sums the numbers from 100 to 200."
   ]
  },
  {
   "cell_type": "code",
   "execution_count": 4,
   "id": "b04f4486",
   "metadata": {},
   "outputs": [
    {
     "name": "stdout",
     "output_type": "stream",
     "text": [
      "100\n",
      "201\n",
      "303\n",
      "406\n",
      "510\n",
      "615\n",
      "721\n",
      "828\n",
      "936\n",
      "1045\n",
      "1155\n",
      "1266\n",
      "1378\n",
      "1491\n",
      "1605\n",
      "1720\n",
      "1836\n",
      "1953\n",
      "2071\n",
      "2190\n",
      "2310\n",
      "2431\n",
      "2553\n",
      "2676\n",
      "2800\n",
      "2925\n",
      "3051\n",
      "3178\n",
      "3306\n",
      "3435\n",
      "3565\n",
      "3696\n",
      "3828\n",
      "3961\n",
      "4095\n",
      "4230\n",
      "4366\n",
      "4503\n",
      "4641\n",
      "4780\n",
      "4920\n",
      "5061\n",
      "5203\n",
      "5346\n",
      "5490\n",
      "5635\n",
      "5781\n",
      "5928\n",
      "6076\n",
      "6225\n",
      "6375\n",
      "6526\n",
      "6678\n",
      "6831\n",
      "6985\n",
      "7140\n",
      "7296\n",
      "7453\n",
      "7611\n",
      "7770\n",
      "7930\n",
      "8091\n",
      "8253\n",
      "8416\n",
      "8580\n",
      "8745\n",
      "8911\n",
      "9078\n",
      "9246\n",
      "9415\n",
      "9585\n",
      "9756\n",
      "9928\n",
      "10101\n",
      "10275\n",
      "10450\n",
      "10626\n",
      "10803\n",
      "10981\n",
      "11160\n",
      "11340\n",
      "11521\n",
      "11703\n",
      "11886\n",
      "12070\n",
      "12255\n",
      "12441\n",
      "12628\n",
      "12816\n",
      "13005\n",
      "13195\n",
      "13386\n",
      "13578\n",
      "13771\n",
      "13965\n",
      "14160\n",
      "14356\n",
      "14553\n",
      "14751\n",
      "14950\n"
     ]
    }
   ],
   "source": [
    "sum_num = 0\n",
    "num = range(100,200)\n",
    "for i in num:\n",
    "    sum_num += i\n",
    "    print(sum_num)"
   ]
  },
  {
   "cell_type": "code",
   "execution_count": 5,
   "id": "b8873592",
   "metadata": {},
   "outputs": [
    {
     "name": "stdout",
     "output_type": "stream",
     "text": [
      "14950\n"
     ]
    }
   ],
   "source": [
    "sum_num = 0\n",
    "num = range(100,200)\n",
    "for i in num:\n",
    "    sum_num += i\n",
    "print(sum_num)"
   ]
  },
  {
   "cell_type": "markdown",
   "id": "7a6ab077",
   "metadata": {},
   "source": [
    "#### 2. Write a Python program that asks a user to input a temperature in degrees centigrade. Restrict the user input to a maximum temperature of 100. If the user enters a temperature above 100 degrees, the program should print the message ‘Out of range’.\n",
    "#### The program should display a suitable output message according to the conditions below:\n",
    "#### If:\n",
    "#### Temperature is less than 0, the output should be ‘Freezing Weather’\n",
    "#### Temperature between 0 and 10 degrees the output should be ‘Very Cold Weather’\n",
    "#### Temperature 10-20 the output should be ‘Cold Weather’\n",
    "#### Temperature 20-30 the output should be ‘Normal Temperature’\n",
    "#### Temperature 30-40 the output should be ‘Hot Weather’\n",
    "#### Temperature >=40 the output should be ‘Scorching Weather’.\n"
   ]
  },
  {
   "cell_type": "code",
   "execution_count": 32,
   "id": "02c24fc2",
   "metadata": {},
   "outputs": [],
   "source": [
    "def total_temp():\n",
    "    \n",
    "    temp = int(input('Enter Temprature: '))\n",
    "    \n",
    "    if temp <= 100:\n",
    "        \n",
    "        if temp < 0:\n",
    "            weather = 'Freezing Weather'\n",
    "        elif temp <= 10:\n",
    "            weather = 'Very Cold Weather'\n",
    "        elif temp <= 20:\n",
    "            weather = 'Cold Weather'\n",
    "        elif temp <= 30:\n",
    "            weather = 'Normal Temperature'\n",
    "        elif temp <= 39:\n",
    "            weather = 'Hot Weather'\n",
    "        else:\n",
    "            temp >= 40\n",
    "            weather = 'Scorching Weather'  \n",
    "            \n",
    "        print(f'When it is {temp}°C, it is a {weather}')  \n",
    "    else: \n",
    "        print('Out of range')    \n",
    "    "
   ]
  },
  {
   "cell_type": "code",
   "execution_count": 33,
   "id": "0e0ad6de",
   "metadata": {},
   "outputs": [
    {
     "name": "stdout",
     "output_type": "stream",
     "text": [
      "Enter Temprature: -2\n",
      "When it is -2°C, it is a Freezing Weather\n"
     ]
    }
   ],
   "source": [
    "total_temp()"
   ]
  },
  {
   "cell_type": "markdown",
   "id": "b24625f8",
   "metadata": {},
   "source": [
    "#### 3. Write a Python program that asks a user to input the name of a month and the program should return how many days are in that month."
   ]
  },
  {
   "cell_type": "code",
   "execution_count": 1,
   "id": "1007221d",
   "metadata": {},
   "outputs": [],
   "source": [
    "import datetime\n",
    "\n",
    "def monthtodate():\n",
    "    \n",
    "    month = input('Enter a Month of the Year: ')\n",
    "\n",
    "    if month == 'January':\n",
    "        days = '31'\n",
    "    elif month == 'February':\n",
    "        days = '29'\n",
    "    elif month == 'March':\n",
    "        days = '31'\n",
    "    elif month == 'April':\n",
    "        days = '30'\n",
    "    elif month == 'May':\n",
    "        days = '31'\n",
    "    elif month == 'June':\n",
    "        days = '30' \n",
    "    elif month == 'July':\n",
    "        days = '31'\n",
    "    elif month == 'August':\n",
    "        days = '31'\n",
    "    elif month == 'September':\n",
    "        days = '30'\n",
    "    elif month == 'October':\n",
    "        days = '31'\n",
    "    elif month == 'November':\n",
    "        days = '30'\n",
    "    else: \n",
    "        month == 'December'\n",
    "        days = '31'\n",
    "\n",
    "\n",
    "    print(f' {month} has {days}days')  \n",
    "       "
   ]
  },
  {
   "cell_type": "code",
   "execution_count": 4,
   "id": "2272bc1d",
   "metadata": {},
   "outputs": [
    {
     "name": "stdout",
     "output_type": "stream",
     "text": [
      "Enter a Month of the Year: November\n",
      " November has 30days\n"
     ]
    }
   ],
   "source": [
    "monthtodate()"
   ]
  },
  {
   "cell_type": "markdown",
   "id": "2ad8509c",
   "metadata": {},
   "source": [
    "### 4. Give concise explanations, giving examples, of the following concepts as regards Python\n",
    "functions:\n",
    "\n",
    "- Global variable,\n",
    "- local variable\n",
    "- non-local variable\n",
    "- *args, **kwargs"
   ]
  },
  {
   "cell_type": "code",
   "execution_count": 17,
   "id": "6b25080b",
   "metadata": {},
   "outputs": [
    {
     "name": "stdout",
     "output_type": "stream",
     "text": [
      "My name is Aima\n"
     ]
    }
   ],
   "source": [
    "# Global Variable is the variable declared outside a function. It can be used by anyone both inside a function and outside\n",
    "\n",
    "# Example\n",
    "name = \"Aima\"\n",
    "def myfunc():\n",
    "  global name\n",
    "  \n",
    "\n",
    "myfunc()\n",
    "\n",
    "print(f\"My name is {name}\")\n"
   ]
  },
  {
   "cell_type": "code",
   "execution_count": 19,
   "id": "70508a86",
   "metadata": {},
   "outputs": [
    {
     "name": "stdout",
     "output_type": "stream",
     "text": [
      "My name is Aima\n"
     ]
    }
   ],
   "source": [
    "# local Variable is the variable declared inside a function. It cannot be used outside the function\n",
    "\n",
    "# Example\n",
    "\n",
    "def myfunc():\n",
    "  name = \"Aima\"\n",
    "\n",
    "myfunc()\n",
    "\n",
    "print(f\"My name is {name}\")"
   ]
  },
  {
   "cell_type": "code",
   "execution_count": 21,
   "id": "9fa04b4a",
   "metadata": {},
   "outputs": [
    {
     "name": "stdout",
     "output_type": "stream",
     "text": [
      "My name is Aima\n"
     ]
    }
   ],
   "source": [
    "# The nonlocal is used to work with variables inside nested functions, where the variable should not belong to the inner function.\n",
    "\n",
    "\n",
    "def myfunc1():\n",
    "  name = \"Aima\"\n",
    "  def myfunc2():\n",
    "    nonlocal name\n",
    "    x = \"Yomi\"\n",
    "  myfunc2()\n",
    "  return name\n",
    "\n",
    "myfunc1()\n",
    "\n",
    "print(f\"My name is {name}\")"
   ]
  },
  {
   "cell_type": "code",
   "execution_count": 22,
   "id": "afb3431f",
   "metadata": {},
   "outputs": [
    {
     "name": "stdout",
     "output_type": "stream",
     "text": [
      "The youngest child is Linus\n"
     ]
    }
   ],
   "source": [
    "# An *args if you do not know how many arguments that will be passed into your function, add a * before the parameter name in the function definition.\n",
    "# If the number of arguments is unknown, add a * before the parameter name.\n",
    "\n",
    "def my_function(*kids):\n",
    "  print(\"The youngest child is \" + kids[2])\n",
    "\n",
    "my_function(\"Emil\", \"Tobias\", \"Linus\")\n"
   ]
  },
  {
   "cell_type": "code",
   "execution_count": 23,
   "id": "bd279e89",
   "metadata": {},
   "outputs": [
    {
     "name": "stdout",
     "output_type": "stream",
     "text": [
      "His last name is Refsnes\n"
     ]
    }
   ],
   "source": [
    "# If you do not know how many keyword arguments that will be passed into your function, add two asterisk: ** before the parameter name in the function definition.\n",
    "\n",
    "# This way the function will receive a dictionary of arguments, and can access the items accordingly.\n",
    "\n",
    "def my_function(**kid):\n",
    "  print(\"His last name is \" + kid[\"lname\"])\n",
    "\n",
    "my_function(fname = \"Tobias\", lname = \"Refsnes\")"
   ]
  },
  {
   "cell_type": "markdown",
   "id": "982a5ca4",
   "metadata": {},
   "source": [
    "### 5. Write on the map(), filter(), and lambda functions giving code examples."
   ]
  },
  {
   "cell_type": "code",
   "execution_count": 27,
   "id": "954af657",
   "metadata": {},
   "outputs": [
    {
     "name": "stdout",
     "output_type": "stream",
     "text": [
      "['appleorange', 'bananalemon', 'cherrypineapple']\n"
     ]
    }
   ],
   "source": [
    "# The map() function executes a specified function for each item in an iterable. \n",
    "# The item is sent to the function as a parameter.\n",
    "\n",
    "def myfunc(a, b):\n",
    "  return a + b\n",
    "\n",
    "x = map(myfunc, ('apple', 'banana', 'cherry'), ('orange', 'lemon', 'pineapple'))\n",
    "\n",
    "print(list(x))\n"
   ]
  },
  {
   "cell_type": "code",
   "execution_count": 28,
   "id": "7f2b8a04",
   "metadata": {},
   "outputs": [
    {
     "name": "stdout",
     "output_type": "stream",
     "text": [
      "18\n",
      "24\n",
      "32\n"
     ]
    }
   ],
   "source": [
    "# The filter() function returns an iterator where the items are filtered through a function to test \n",
    "# if the item is accepted or not.\n",
    "\n",
    "ages = [5, 12, 17, 18, 24, 32]\n",
    "\n",
    "def myFunc(x):\n",
    "  if x < 18:\n",
    "    return False\n",
    "  else:\n",
    "    return True\n",
    "\n",
    "adults = filter(myFunc, ages)\n",
    "\n",
    "for x in adults:\n",
    "  print(x)"
   ]
  },
  {
   "cell_type": "code",
   "execution_count": 30,
   "id": "e9daa38e",
   "metadata": {},
   "outputs": [
    {
     "name": "stdout",
     "output_type": "stream",
     "text": [
      "13\n"
     ]
    }
   ],
   "source": [
    "# A lambda function is a small anonymous function.\n",
    "\n",
    "# A lambda function can take any number of arguments, but can only have one expression.\n",
    "\n",
    "x = lambda a, b, c : a + b + c\n",
    "print(x(5, 6, 2))"
   ]
  },
  {
   "cell_type": "code",
   "execution_count": null,
   "id": "3ced1496",
   "metadata": {},
   "outputs": [],
   "source": []
  }
 ],
 "metadata": {
  "kernelspec": {
   "display_name": "Python 3 (ipykernel)",
   "language": "python",
   "name": "python3"
  },
  "language_info": {
   "codemirror_mode": {
    "name": "ipython",
    "version": 3
   },
   "file_extension": ".py",
   "mimetype": "text/x-python",
   "name": "python",
   "nbconvert_exporter": "python",
   "pygments_lexer": "ipython3",
   "version": "3.9.13"
  }
 },
 "nbformat": 4,
 "nbformat_minor": 5
}
